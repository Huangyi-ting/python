{
 "cells": [
  {
   "cell_type": "code",
   "execution_count": 1,
   "metadata": {},
   "outputs": [
    {
     "name": "stdout",
     "output_type": "stream",
     "text": [
      "['a', 'b', 'c', 'd', 'e', 'f', 'a', 'b', 'c', 'd', 'e', 'f']\n"
     ]
    }
   ],
   "source": [
    "list_1=['a', 'b', 'c']\n",
    "list_2=['d', 'e', 'f']\n",
    "list_3=list_1 + list_2\n",
    "list_4= list_3 * 2\n",
    "print(list_4)"
   ]
  },
  {
   "cell_type": "code",
   "execution_count": 3,
   "metadata": {},
   "outputs": [
    {
     "name": "stdout",
     "output_type": "stream",
     "text": [
      "請輸入以公里為單位的行駛距離：60\n",
      "請輸入經過的小時數：2\n",
      "請輸入經過的分鐘：30\n",
      "汽車的時速是： 24.0 km/hr\n"
     ]
    }
   ],
   "source": [
    "car_dist= float(eval(input(\"請輸入以公里為單位的行駛距離：\")))\n",
    "run_hour= int(eval(input(\"請輸入經過的小時數：\")))\n",
    "run_min= int(eval(input(\"請輸入經過的分鐘：\")))\n",
    "run_time= run_hour + run_min/60\n",
    "car_speed= car_dist / run_time\n",
    "print(\"汽車的時速是：\", car_speed, \"km/hr\")"
   ]
  },
  {
   "cell_type": "code",
   "execution_count": 4,
   "metadata": {},
   "outputs": [
    {
     "name": "stdout",
     "output_type": "stream",
     "text": [
      "<class 'int'> <class 'bool'> <class 'str'> <class 'float'> <class 'str'>\n"
     ]
    }
   ],
   "source": [
    "age=12\n",
    "minor=False\n",
    "name=\"David\"\n",
    "weight=64.5\n",
    "zip = \"545\"\n",
    "print(type(age), type(minor), type(name), type(weight), type(zip))"
   ]
  },
  {
   "cell_type": "code",
   "execution_count": 5,
   "metadata": {},
   "outputs": [
    {
     "name": "stdout",
     "output_type": "stream",
     "text": [
      "請輸入攝氏溫度：38\n",
      "攝氏38度等於華氏100.4度\n",
      "<class 'str'> <class 'float'> <class 'str'>\n"
     ]
    }
   ],
   "source": [
    "TC=input(\"請輸入攝氏溫度：\")\n",
    "TF=eval(TC) * (9/5) + 32\n",
    "message = \"攝氏\" + TC + \"度等於華氏\" + str(TF) + \"度\"\n",
    "print(message)\n",
    "print(type(TC), type(TF), type(message))"
   ]
  },
  {
   "cell_type": "code",
   "execution_count": 6,
   "metadata": {},
   "outputs": [
    {
     "name": "stdout",
     "output_type": "stream",
     "text": [
      "0000 <class 'str'>\n",
      "2.0 <class 'float'>\n",
      "10.5 <class 'float'>\n"
     ]
    }
   ],
   "source": [
    "x1=\"0\"\n",
    "y1=4\n",
    "a=x1*y1\n",
    "print(a, type(a))\n",
    "x2=8\n",
    "y2=4\n",
    "b=x2/y2\n",
    "print(b, type(b))\n",
    "x3=10.5\n",
    "y3=1\n",
    "c=x3/y3\n",
    "print(c, type(c))"
   ]
  },
  {
   "cell_type": "code",
   "execution_count": 7,
   "metadata": {},
   "outputs": [
    {
     "name": "stdout",
     "output_type": "stream",
     "text": [
      "<class 'float'> <class 'float'> <class 'str'> <class 'bool'>\n"
     ]
    }
   ],
   "source": [
    "print(type(1.0), type(+1E-10), type(\"False\"), type(True))"
   ]
  },
  {
   "cell_type": "code",
   "execution_count": 8,
   "metadata": {},
   "outputs": [
    {
     "name": "stdout",
     "output_type": "stream",
     "text": [
      "輸入產品編號：1\n",
      "產品名稱為：鉛筆\n"
     ]
    }
   ],
   "source": [
    "products = {1: '鉛筆', 2: '橡皮擦'}\n",
    "id=int(input('輸入產品編號：')) #題目少了int()))\n",
    "if not id in products:\n",
    "  print('該產品並不存在')\n",
    "else:\n",
    "  print(\"產品名稱為：\"+ products[id])"
   ]
  },
  {
   "cell_type": "code",
   "execution_count": 9,
   "metadata": {},
   "outputs": [
    {
     "name": "stdout",
     "output_type": "stream",
     "text": [
      "<class 'int'>\n",
      "<class 'float'>\n",
      "<class 'str'>\n",
      "<class 'bool'>\n"
     ]
    }
   ],
   "source": [
    "print(type(5))\n",
    "print(type(8.0))\n",
    "print(type(\"True\"))\n",
    "print(type(False))"
   ]
  },
  {
   "cell_type": "code",
   "execution_count": 10,
   "metadata": {},
   "outputs": [
    {
     "name": "stdout",
     "output_type": "stream",
     "text": [
      "請輸入總數?100.5\n",
      "100 <class 'int'>\n"
     ]
    }
   ],
   "source": [
    "#total = int(input(\"請輸入總數?\")) \n",
    "total = eval(input(\"請輸入總數?\"))\n",
    "total = int(total)\n",
    "print(total, type(total))"
   ]
  },
  {
   "cell_type": "code",
   "execution_count": 11,
   "metadata": {},
   "outputs": [
    {
     "name": "stdout",
     "output_type": "stream",
     "text": [
      "madA m'I madaM\n"
     ]
    }
   ],
   "source": [
    "def reverse_str(oStr):\n",
    "  reStr=\"\"\n",
    "  for index in range(len(oStr)-1, -1, -1): #(1)\n",
    "    reStr += oStr[index] #(2)\n",
    "  return reStr\n",
    "print(reverse_str(\"Madam I'm Adam\"))"
   ]
  },
  {
   "cell_type": "code",
   "execution_count": 12,
   "metadata": {},
   "outputs": [
    {
     "name": "stdout",
     "output_type": "stream",
     "text": [
      "早上上班時間是幾點?8\n",
      "下午下班時間是幾點?17\n",
      "本日上班時間：9小時\n"
     ]
    }
   ],
   "source": [
    "time_start = input(\"早上上班時間是幾點?\")\n",
    "time_end = input(\"下午下班時間是幾點?\")\n",
    "print(\"本日上班時間：\"+ str(int(time_end)-int(time_start))+\"小時\")"
   ]
  },
  {
   "cell_type": "code",
   "execution_count": 13,
   "metadata": {},
   "outputs": [
    {
     "name": "stdout",
     "output_type": "stream",
     "text": [
      "fghijklmnopqrst\n",
      "filor\n",
      "uroli\n",
      "zwtqnkheb\n",
      "\n"
     ]
    }
   ],
   "source": [
    "astr=\"abcdefghijklmnopqrstuvwxyz\"\n",
    "print(astr[5:20])\n",
    "print(astr[5:20:3])\n",
    "print(astr[20:5:-3])\n",
    "print(astr[::-3])\n",
    "print(astr[3:15:-1])"
   ]
  },
  {
   "cell_type": "code",
   "execution_count": 14,
   "metadata": {},
   "outputs": [
    {
     "name": "stdout",
     "output_type": "stream",
     "text": [
      "[1, 2, 3, 4, 5, 6, 7, 8, 9, 10, 11, 12, 13, 14, 15, 16, 17, 18, 19, 20, 21, 22, 23, 24, 25, 26, 27, 28, 29, 30, 31, 32, 33, 34, 35, 36, 37, 38, 39, 40, 41, 42, 43, 44, 45, 46, 47, 48, 49, 50]\n",
      "[1, 2, 3, 4, 5, 6, 7, 8, 9, 10, 11, 12, 13, 14, 15, 16, 17, 18, 19, 20, 21, 22, 23, 24, 25, 26, 27, 28, 29, 30, 31, 32, 33, 34, 35, 36, 37, 38, 39, 40, 41, 42, 43, 44, 45]\n",
      "[1, 2, 3, 4, 5, 6, 7, 8, 9, 10, 11, 12, 13, 14, 15, 16, 17, 18, 19, 20, 21, 22, 23, 24, 25, 26, 27, 28, 29, 30, 31, 32, 33, 34, 35, 36, 37, 38, 39, 40, 41, 42, 43, 44, 45]\n",
      "[2, 3, 4, 5]\n"
     ]
    }
   ],
   "source": [
    "members=list(range(1,51))\n",
    "print(members)\n",
    "#print(member[-5:0])無法執行 #A\n",
    "print(members[0:-5]) #B\n",
    "#members[1:-5 無法執行 #C\n",
    "print(members[:-5]) #D\n",
    "print(members[1:5]) #E"
   ]
  },
  {
   "cell_type": "code",
   "execution_count": 15,
   "metadata": {},
   "outputs": [
    {
     "name": "stdout",
     "output_type": "stream",
     "text": [
      "[]\n",
      "[1, 3, 5, 7]\n",
      "[2, 4, 6]\n",
      "[2]\n"
     ]
    }
   ],
   "source": [
    "#取出星期2,星期4,星期6\n",
    "weeks=[1,2,3,4,5,6,7]\n",
    "print(weeks[2:2])\n",
    "print(weeks[::2])\n",
    "print(weeks[1::2])\n",
    "print(weeks[1:2])"
   ]
  },
  {
   "cell_type": "code",
   "execution_count": 16,
   "metadata": {},
   "outputs": [
    {
     "name": "stdout",
     "output_type": "stream",
     "text": [
      "輸入一個數字：7\n",
      "196\n"
     ]
    }
   ],
   "source": [
    "x=eval(input(\"輸入一個數字：\"))\n",
    "y=(x+7)**2\n",
    "print(y)"
   ]
  },
  {
   "cell_type": "code",
   "execution_count": 17,
   "metadata": {},
   "outputs": [
    {
     "name": "stdout",
     "output_type": "stream",
     "text": [
      "discount= 0.2\n"
     ]
    }
   ],
   "source": [
    "def get_discount(kid, girl):\n",
    "  discount = 0.2\n",
    "  if not (kid or girl):\n",
    "    discount=0\n",
    "  return discount\n",
    "\n",
    "print(\"discount=\", get_discount(True,False))"
   ]
  },
  {
   "cell_type": "code",
   "execution_count": 18,
   "metadata": {},
   "outputs": [
    {
     "name": "stdout",
     "output_type": "stream",
     "text": [
      "2\n",
      "False\n",
      "True\n",
      "True\n"
     ]
    }
   ],
   "source": [
    "print(0 or 2)\n",
    "print(bool()) #轉換bool型態，沒參數回傳False\n",
    "print(None == None)\n",
    "print(-2<0<2)"
   ]
  },
  {
   "cell_type": "code",
   "execution_count": 19,
   "metadata": {},
   "outputs": [
    {
     "name": "stdout",
     "output_type": "stream",
     "text": [
      "44.0\n"
     ]
    }
   ],
   "source": [
    "print((5*(1+2)**2-3+4/2))"
   ]
  },
  {
   "cell_type": "code",
   "execution_count": 20,
   "metadata": {},
   "outputs": [
    {
     "name": "stdout",
     "output_type": "stream",
     "text": [
      "Apple\n",
      "AppleBanana\n",
      "AppleBanana\n"
     ]
    }
   ],
   "source": [
    "a='Apple'\n",
    "print(a)\n",
    "b='Banana'\n",
    "a+=b\n",
    "b=a\n",
    "print(a)\n",
    "print(b)"
   ]
  },
  {
   "cell_type": "code",
   "execution_count": 21,
   "metadata": {},
   "outputs": [
    {
     "name": "stdout",
     "output_type": "stream",
     "text": [
      "2.0\n"
     ]
    }
   ],
   "source": [
    "def calc(a,b,c,d):\n",
    "  value=(a-b)/c+d\n",
    "  return value\n",
    "print(calc(1,1,1,2))"
   ]
  },
  {
   "cell_type": "code",
   "execution_count": 22,
   "metadata": {},
   "outputs": [
    {
     "name": "stdout",
     "output_type": "stream",
     "text": [
      "你想要查詢哪個單字的數量?i\n",
      "在文章中一共有': 1 個單字 i\n"
     ]
    }
   ],
   "source": [
    "def count_word(word, words_list):\n",
    "  count=0\n",
    "  for keyword in words_list:\n",
    "    if keyword == word:\n",
    "      count+=1\n",
    "  return count\n",
    "words_list=['i','am','a','boy','you','are','a','girl']\n",
    "word=input(\"你想要查詢哪個單字的數量?\")\n",
    "wtotal=count_word(word, words_list)\n",
    "print(\"在文章中一共有':\", wtotal,\"個單字\", word)"
   ]
  },
  {
   "cell_type": "code",
   "execution_count": 24,
   "metadata": {},
   "outputs": [
    {
     "name": "stdout",
     "output_type": "stream",
     "text": [
      "機車是在晚上10點前返還的嗎? y或n:n\n",
      "機車出租了幾天?3\n",
      "機車是在星期幾出租的?Wednesday\n",
      "機車的租借費用為:$ 1800.0\n"
     ]
    }
   ],
   "source": [
    "ontime=input(\"機車是在晚上10點前返還的嗎? y或n:\").lower() #轉小寫\n",
    "days_rented = int(input(\"機車出租了幾天?\"))\n",
    "day_rented = input(\"機車是在星期幾出租的?\").capitalize() #首字大寫\n",
    "cost_per_day = 500\n",
    "if ontime == 'n':\n",
    "  days_rented += 1\n",
    "if day_rented == 'Wednesday':\n",
    "  total = (days_rented * cost_per_day) * 0.9\n",
    "if day_rented == 'Saturday':\n",
    "  total = (days_rented * cost_per_day) * 0.8\n",
    "print(\"機車的租借費用為:$\", total)"
   ]
  },
  {
   "cell_type": "code",
   "execution_count": 25,
   "metadata": {},
   "outputs": [
    {
     "name": "stdout",
     "output_type": "stream",
     "text": [
      "你少填了被乘數與乘數\n",
      "你的乘數或被乘數為0\n",
      "6\n"
     ]
    }
   ],
   "source": [
    "def do_times(n1,n2):\n",
    "  if (n1 is None or n2 is None):\n",
    "    return(\"你少填了被乘數與乘數\")\n",
    "  if (n1==0 or n2==0):\n",
    "    return(\"你的乘數或被乘數為0\")\n",
    "  else:\n",
    "    return n1*n2\n",
    "print(do_times(None,2))\n",
    "print(do_times(2,0))\n",
    "print(do_times(2,3))"
   ]
  },
  {
   "cell_type": "code",
   "execution_count": 26,
   "metadata": {},
   "outputs": [
    {
     "name": "stdout",
     "output_type": "stream",
     "text": [
      "4.2\n",
      "4\n",
      "1\n"
     ]
    }
   ],
   "source": [
    "a=21\n",
    "b=5\n",
    "print(a/b)\n",
    "print(a//b)\n",
    "print(a%b)"
   ]
  },
  {
   "cell_type": "code",
   "execution_count": 27,
   "metadata": {},
   "outputs": [
    {
     "name": "stdout",
     "output_type": "stream",
     "text": [
      "Cherry\n",
      "Fruit\n",
      "Banana\n",
      "Apple\n"
     ]
    }
   ],
   "source": [
    "x=0\n",
    "while x<4:\n",
    "  if x//3 == 1:\n",
    "    print(\"Apple\")\n",
    "  elif x-2 == 0:\n",
    "    print(\"Banana\")\n",
    "  elif x%3 == 0:\n",
    "    print(\"Cherry\")\n",
    "  else:\n",
    "    print(\"Fruit\")\n",
    "  x=x+1"
   ]
  },
  {
   "cell_type": "code",
   "execution_count": 28,
   "metadata": {},
   "outputs": [
    {
     "name": "stdout",
     "output_type": "stream",
     "text": [
      "True\n"
     ]
    }
   ],
   "source": [
    "slist = ['a','b','c','d','e','f']\n",
    "print('f' in slist)"
   ]
  },
  {
   "cell_type": "code",
   "execution_count": 29,
   "metadata": {},
   "outputs": [
    {
     "name": "stdout",
     "output_type": "stream",
     "text": [
      "False\n",
      "False\n",
      "False\n",
      "True\n"
     ]
    }
   ],
   "source": [
    "aList = ['a','b','c','d','e']\n",
    "bList = [1,2,3,4,5]\n",
    "print(aList is bList)\n",
    "print(aList == bList)\n",
    "aList = [1,2,3,4,5]\n",
    "print(aList is bList)\n",
    "print(aList == bList)"
   ]
  },
  {
   "cell_type": "code",
   "execution_count": 30,
   "metadata": {},
   "outputs": [
    {
     "name": "stdout",
     "output_type": "stream",
     "text": [
      "請輸入小於100, 大於或等於50的數字：80\n",
      "數字在範圍內\n"
     ]
    }
   ],
   "source": [
    "num=eval(input(\"請輸入小於100, 大於或等於50的數字：\"))\n",
    "if num < 100:\n",
    "  if num >= 50:\n",
    "    if num == 50: #原來的=是指定值\n",
    "      print('數字等於50')\n",
    "    else:\n",
    "      print('數字在範圍內')\n",
    "  else:\n",
    "    print('數字小於50')\n",
    "elif num != 100: #原來的<>是錯的\n",
    "  print('數字大於100')\n",
    "else:\n",
    "  print('數字等於100')"
   ]
  },
  {
   "cell_type": "code",
   "execution_count": 31,
   "metadata": {},
   "outputs": [
    {
     "name": "stdout",
     "output_type": "stream",
     "text": [
      "請輸入分數：75\n",
      "你的等級為： C\n"
     ]
    }
   ],
   "source": [
    "grade = int(input(\"請輸入分數：\"))\n",
    "if grade >= 90:\n",
    "  letter_grade = 'A'\n",
    "elif grade >= 80:\n",
    "  letter_grade = 'B'\n",
    "elif grade >= 70:\n",
    "  letter_grade = 'C'\n",
    "elif grade >= 60:\n",
    "  letter_grade = 'D'\n",
    "else:\n",
    "  letter_grade = 'E'\n",
    "print(\"你的等級為：\", letter_grade)"
   ]
  },
  {
   "cell_type": "code",
   "execution_count": 32,
   "metadata": {},
   "outputs": [
    {
     "name": "stdout",
     "output_type": "stream",
     "text": [
      "值是正數\n",
      "值是負數\n",
      "值是零\n"
     ]
    }
   ],
   "source": [
    "def reResult(a):\n",
    "  if a>0:\n",
    "    answer=\"值是正數\"\n",
    "  else:\n",
    "    if a<0 :\n",
    "      answer=\"值是負數\"\n",
    "    else:\n",
    "      answer=\"值是零\"\n",
    "  return answer\n",
    "\n",
    "print(reResult(2))\n",
    "print(reResult(-2))\n",
    "print(reResult(0))"
   ]
  },
  {
   "cell_type": "code",
   "execution_count": 33,
   "metadata": {},
   "outputs": [
    {
     "name": "stdout",
     "output_type": "stream",
     "text": [
      "0\n",
      "150\n",
      "200\n",
      "300\n"
     ]
    }
   ],
   "source": [
    "def ticket_fee(age,school):\n",
    "  fee=0\n",
    "  if age>=5 and school==True:\n",
    "    fee=150\n",
    "  if age>=5 and school==False:\n",
    "    if age <= 17:\n",
    "      fee=200\n",
    "    else:\n",
    "      fee=300\n",
    "  return fee\n",
    "\n",
    "print(ticket_fee(3, False))\n",
    "print(ticket_fee(10, True))\n",
    "print(ticket_fee(10, False))\n",
    "print(ticket_fee(20, False))"
   ]
  },
  {
   "cell_type": "code",
   "execution_count": 34,
   "metadata": {},
   "outputs": [
    {
     "name": "stdout",
     "output_type": "stream",
     "text": [
      "請輸入一個正整數:60\n",
      "2位數.\n"
     ]
    }
   ],
   "source": [
    "def is_digit(n):\n",
    "  try:\n",
    "    int(n)\n",
    "    return True\n",
    "  except ValueError:\n",
    "    return False\n",
    "num=input(\"請輸入一個正整數:\")\n",
    "if is_digit(num) and int(num)>0:\n",
    "  num=int(eval(num))\n",
    "  if num<10:\n",
    "    digits=\"1\"\n",
    "  elif num<100:\n",
    "    digits=\"2\"\n",
    "  else:\n",
    "    digits=\">2\"\n",
    "  print(digits + \"位數.\")\n",
    "else:\n",
    "  print(\"輸入值並不是數值或正整數\")"
   ]
  },
  {
   "cell_type": "code",
   "execution_count": 35,
   "metadata": {},
   "outputs": [
    {
     "name": "stdout",
     "output_type": "stream",
     "text": [
      "猜一個從1到100的整數.你將有3次機會.\n",
      "58\n",
      "請輸入一個整數：50\n",
      "數字太小了，猜高一點\n",
      "請輸入一個整數：60\n",
      "數字太大了，猜低一點\n",
      "請輸入一個整數：55\n",
      "數字太小了，猜高一點\n",
      "終極密碼是 58\n"
     ]
    }
   ],
   "source": [
    "from random import randint\n",
    "answer=randint(1,100) #1~99\n",
    "print(\"猜一個從1到100的整數.你將有3次機會.\")\n",
    "print(answer)\n",
    "for i in range(3):\n",
    "  guess=int(input(\"請輸入一個整數：\"))\n",
    "  if guess > answer:\n",
    "    print(\"數字太大了，猜低一點\")\n",
    "  elif guess < answer:\n",
    "    print(\"數字太小了，猜高一點\")\n",
    "  else:\n",
    "    print(\"猜對了!\")\n",
    "print(\"終極密碼是\", answer)"
   ]
  },
  {
   "cell_type": "code",
   "execution_count": 36,
   "metadata": {},
   "outputs": [
    {
     "name": "stdout",
     "output_type": "stream",
     "text": [
      "44是偶數\n"
     ]
    }
   ],
   "source": [
    "from random import randint\n",
    "num=randint(1,100)\n",
    "if num % 2 == 0:\n",
    "  print(\"%d是偶數\" % num) # %後填入要在字串顯示的值\n",
    "else:\n",
    "  print(\"%d是奇數\" % num)"
   ]
  },
  {
   "cell_type": "code",
   "execution_count": 37,
   "metadata": {},
   "outputs": [
    {
     "name": "stdout",
     "output_type": "stream",
     "text": [
      "請輸入英文姓名：Mary\n",
      "Mary 是大小寫混合.\n"
     ]
    }
   ],
   "source": [
    "en_name=input(\"請輸入英文姓名：\")\n",
    "if en_name.upper() == en_name:\n",
    "  print(en_name, \"是全部大寫.\")\n",
    "elif en_name.lower() == en_name:\n",
    "  print(en_name, \"是全部小寫.\")\n",
    "else:\n",
    "  print(en_name, \"是大小寫混合.\")"
   ]
  },
  {
   "cell_type": "code",
   "execution_count": 38,
   "metadata": {},
   "outputs": [
    {
     "name": "stdout",
     "output_type": "stream",
     "text": [
      "[20000, 24000, 30000, 20000, 20000]\n"
     ]
    }
   ],
   "source": [
    "salaryList=[10000, 24000, 30000, 5000, 14000]\n",
    "for index in range(len(salaryList)): #答案有錯\n",
    "  if salaryList[index]>15000:\n",
    "    continue #continue直接進入下一個迴圈，不執行接下來的命令\n",
    "  salaryList[index]=18000+2000\n",
    "print(salaryList)"
   ]
  },
  {
   "cell_type": "code",
   "execution_count": 39,
   "metadata": {},
   "outputs": [
    {
     "name": "stdout",
     "output_type": "stream",
     "text": [
      "2\n",
      "3\n",
      "5\n",
      "7\n",
      "11\n",
      "13\n",
      "17\n",
      "19\n",
      "23\n",
      "29\n",
      "31\n",
      "37\n",
      "41\n",
      "43\n",
      "47\n"
     ]
    }
   ],
   "source": [
    "n=2\n",
    "while n<=50:\n",
    "  is_prime=True\n",
    "  for i in range(2,n):\n",
    "    if n % i ==0:\n",
    "      is_prime=False\n",
    "      break\n",
    "  if is_prime==True:\n",
    "    print(n) #p是錯誤的\n",
    "  n+=1"
   ]
  },
  {
   "cell_type": "code",
   "execution_count": 40,
   "metadata": {},
   "outputs": [
    {
     "name": "stdout",
     "output_type": "stream",
     "text": [
      "[1, 2, 3, 4, 5, 6]清單中找不到比3大的值\n",
      "[1, 2, 3, 4, 5, 6]清單中找不到比3大的值\n",
      "[1, 2, 3, 4, 5, 6]清單中找不到比3大的值\n",
      "[1, 2, 3, 4, 5, 6]清單中找到比3大的值\n"
     ]
    }
   ],
   "source": [
    "def Whoisbigger(numberList, number): #少了def\n",
    "  for i in range(len(numberList)):\n",
    "    if numberList[i] > number:\n",
    "      print(\"{0}清單中找到比{1}大的值\".format(numberList,number))\n",
    "      break\n",
    "    else:\n",
    "      print(\"{0}清單中找不到比{1}大的值\".format(numberList,number))\n",
    "Whoisbigger([1,2,3,4,5,6], 3)"
   ]
  },
  {
   "cell_type": "code",
   "execution_count": 1,
   "metadata": {},
   "outputs": [
    {
     "name": "stdout",
     "output_type": "stream",
     "text": [
      "請輸入產品編號(dddd-dd):1111-22\n",
      "True\n",
      "請輸入產品編號(dddd-dd):111-2\n",
      "False\n",
      "請輸入產品編號(dddd-dd):11-2\n",
      "False\n",
      "請輸入產品編號(dddd-dd):\n",
      "False\n"
     ]
    }
   ],
   "source": [
    "p_no=\"flag\" #第一次進入while使用，任何非空值之字串皆可以\n",
    "group=\"\"\n",
    "while p_no != \"\": #不輸入值即可跳開\n",
    "  valid=False\n",
    "  p_no=input(\"請輸入產品編號(dddd-dd):\")\n",
    "  group=p_no.split('-')\n",
    "  if len(group)==2: #group被-分開成2群\n",
    "    if len(group[0])==4 and len(group[1])==2:\n",
    "      if group[0].isdigit() and group[1].isdigit():\n",
    "        valid=True\n",
    "  print(valid)"
   ]
  },
  {
   "cell_type": "code",
   "execution_count": 2,
   "metadata": {},
   "outputs": [
    {
     "name": "stdout",
     "output_type": "stream",
     "text": [
      "0\n",
      "1\n",
      "2\n",
      "3\n",
      "4\n",
      "5\n",
      "6\n",
      "7\n",
      "8\n"
     ]
    }
   ],
   "source": [
    "numList=range(10) #[0,1,2,3,4,5,6,7,8,9]\n",
    "num=0\n",
    "while (num<10):\n",
    "  print(numList[num])\n",
    "  if numList[num] == 8:\n",
    "    break\n",
    "  else:\n",
    "    num +=1"
   ]
  },
  {
   "cell_type": "code",
   "execution_count": 4,
   "metadata": {},
   "outputs": [
    {
     "name": "stdout",
     "output_type": "stream",
     "text": [
      "這是檔尾\n"
     ]
    }
   ],
   "source": [
    "import os\n",
    "if os.path.isfile('usefile.txt'):\n",
    "  file=open('usefile.txt')\n",
    "  print(file.read())\n",
    "  file.close()\n",
    "else: #題目少了這一行\n",
    "  file=open('usefile.txt','a') #a是新增檔案, a+是附加檔案\n",
    "  file.write('這是檔尾')\n",
    "  file.close"
   ]
  },
  {
   "cell_type": "code",
   "execution_count": 5,
   "metadata": {},
   "outputs": [
    {
     "data": {
      "text/plain": [
       "'這是檔尾'"
      ]
     },
     "execution_count": 5,
     "metadata": {},
     "output_type": "execute_result"
    }
   ],
   "source": [
    "import os\n",
    "def get_file_content(usefile):\n",
    "  if os.path.isfile(usefile):\n",
    "    with open(usefile, 'r') as file:\n",
    "      return file.read() #題目usefle.read()是錯誤的\n",
    "  else:\n",
    "    return \"檔案不存在\"\n",
    "\n",
    "get_file_content(\"usefile.txt\")"
   ]
  },
  {
   "cell_type": "code",
   "execution_count": 3,
   "metadata": {},
   "outputs": [
    {
     "name": "stdout",
     "output_type": "stream",
     "text": [
      "2019-05-16 00:00:00\n",
      "19-05-16\n",
      "12,345.68\n"
     ]
    }
   ],
   "source": [
    "import datetime\n",
    "data=datetime.datetime(2019,5,16)\n",
    "print(data)\n",
    "print('{:%y-%m-%d}'.format(data)) #%y兩位數 %Y四位數 \n",
    "num=12345.6789\n",
    "print('{:,.2f}'.format(num)) # :特殊格式化符號 ,三位數加一個逗號 .2f:兩位小數點"
   ]
  },
  {
   "cell_type": "code",
   "execution_count": 4,
   "metadata": {},
   "outputs": [
    {
     "name": "stdout",
     "output_type": "stream",
     "text": [
      "請輸入姓名：mary\n",
      "輸入你的分數(輸入-1結束程式：150\n",
      "輸入你的分數(輸入-1結束程式：-1\n",
      "mary      , 你的平均分數是: 150.000\n"
     ]
    }
   ],
   "source": [
    "name=input(\"請輸入姓名：\")\n",
    "sum=score=count=0\n",
    "while (score != -1):\n",
    "  score=int(input(\"輸入你的分數(輸入-1結束程式：\"))\n",
    "  if score == -1:\n",
    "    break\n",
    "  sum += score\n",
    "  count += 1\n",
    "average=sum/count\n",
    "print(\"%-10s, 你的平均分數是: %7.3f\" %(name,average)) #正號(+)靠右對齊,負號(-)靠左對期,10s代表字串長度最長為10,7.3f代表總寬度是7,整數位數是3,小數點是1,小數點後位數是3"
   ]
  },
  {
   "cell_type": "code",
   "execution_count": 8,
   "metadata": {},
   "outputs": [
    {
     "name": "stdout",
     "output_type": "stream",
     "text": [
      "輸入名稱：co\n",
      "輸入數量：5\n",
      "\"co\",5\n",
      "\"co\",5\n",
      "\"co\",5\n",
      "co,5\n"
     ]
    }
   ],
   "source": [
    "p_name=input(\"輸入名稱：\")\n",
    "p_qty=input(\"輸入數量：\")\n",
    "print('\"{0}\",{1}'.format(p_name,p_qty)) #format寫法\n",
    "print('\"'+ p_name + '\",' + p_qty) #字串相加+\n",
    "print('\"%s\",%s' % (p_name, p_qty)) #舊式%寫法\n",
    "print(\"{0},{1}\".format(p_name,p_qty)) #少了\""
   ]
  },
  {
   "cell_type": "code",
   "execution_count": 9,
   "metadata": {},
   "outputs": [
    {
     "name": "stdout",
     "output_type": "stream",
     "text": [
      "請輸入年齡：\n",
      "20\n",
      "20\n"
     ]
    }
   ],
   "source": [
    "print(\"請輸入年齡：\")\n",
    "user_age=input()\n",
    "print(user_age)"
   ]
  },
  {
   "cell_type": "code",
   "execution_count": 10,
   "metadata": {},
   "outputs": [],
   "source": [
    "def get_pname():\n",
    "  #顯示商品名稱\n",
    "  return pname"
   ]
  },
  {
   "cell_type": "code",
   "execution_count": 11,
   "metadata": {},
   "outputs": [],
   "source": [
    "#calc_times函式計算二數乘積\n",
    "#x是被乘數\n",
    "#y是乘數\n",
    "#返回x*y的值\n",
    "def cal_times(x,y):\n",
    "  comment=\"#返回值\"  #前面的#會被當作字串\n",
    "  return x*y  #x*y"
   ]
  },
  {
   "cell_type": "code",
   "execution_count": 12,
   "metadata": {},
   "outputs": [
    {
     "name": "stdout",
     "output_type": "stream",
     "text": [
      "請問你騎了幾公里?30\n",
      "請輸入你的姓名：mary\n",
      "mary ,你燃燒了大約 1500 卡路里\n"
     ]
    }
   ],
   "source": [
    "def get_name():\n",
    "  name=input(\"請輸入你的姓名：\")\n",
    "  return name\n",
    "def calc_calories(km,cpk):\n",
    "  calories=km*cpk\n",
    "  return calories\n",
    "distance = int(input(\"請問你騎了幾公里?\"))\n",
    "burn_rate=50\n",
    "biker=get_name()\n",
    "calories_burned=calc_calories(distance, burn_rate)\n",
    "print(biker,\",你燃燒了大約\", calories_burned,\"卡路里\")"
   ]
  },
  {
   "cell_type": "code",
   "execution_count": 13,
   "metadata": {},
   "outputs": [
    {
     "name": "stdout",
     "output_type": "stream",
     "text": [
      "20\n",
      "12\n"
     ]
    }
   ],
   "source": [
    "def calc_score(total, double, scores=1):\n",
    "  if double==True:\n",
    "    scores=scores*2\n",
    "  total=total+scores\n",
    "  return total\n",
    "scores=5\n",
    "total=10\n",
    "new_score=calc_score(total, True, scores)\n",
    "print(new_score)\n",
    "new_score=calc_score(total,True)\n",
    "print(new_score)"
   ]
  },
  {
   "cell_type": "code",
   "execution_count": 14,
   "metadata": {},
   "outputs": [
    {
     "name": "stdout",
     "output_type": "stream",
     "text": [
      "90\n"
     ]
    }
   ],
   "source": [
    "def add_score(current, value):\n",
    "  current += value\n",
    "  return current\n",
    "print(add_score(80,10))"
   ]
  },
  {
   "cell_type": "code",
   "execution_count": 15,
   "metadata": {},
   "outputs": [
    {
     "name": "stdout",
     "output_type": "stream",
     "text": [
      "檔案不存在\n"
     ]
    }
   ],
   "source": [
    "try: \n",
    "  file1=open(\"file1.txt\", 'r') #開檔案來讀取\n",
    "  file2=open(\"file2.txt\", 'w+') #開檔案來寫入，若存在則覆蓋 \n",
    "except IOError:\n",
    "  print(\"檔案不存在\")\n",
    "else:\n",
    "  i=1\n",
    "  for line in file1:\n",
    "    print(line.rstrip())\n",
    "    file2.write(\"line \" + str(i) + \":\" + line)\n",
    "    i=i+1\n",
    "  file1.close()\n",
    "  file2.close()"
   ]
  },
  {
   "cell_type": "code",
   "execution_count": 16,
   "metadata": {},
   "outputs": [
    {
     "ename": "IndentationError",
     "evalue": "expected an indented block (<ipython-input-16-0fa50c6affad>, line 7)",
     "output_type": "error",
     "traceback": [
      "\u001b[1;36m  File \u001b[1;32m\"<ipython-input-16-0fa50c6affad>\"\u001b[1;36m, line \u001b[1;32m7\u001b[0m\n\u001b[1;33m    go_dist = math.pi / move #會產生除以0的錯誤\u001b[0m\n\u001b[1;37m          ^\u001b[0m\n\u001b[1;31mIndentationError\u001b[0m\u001b[1;31m:\u001b[0m expected an indented block\n"
     ]
    }
   ],
   "source": [
    "import math\n",
    "#default motion for car\n",
    "go = True\n",
    "move = 0\n",
    "while(go):\n",
    "  if move == 0: #原始沒有縮排\n",
    "  go_dist = math.pi / move #會產生除以0的錯誤\n",
    "  move += 5\n",
    "else:\n",
    "  go_dist =0\n",
    "  move = 0"
   ]
  },
  {
   "cell_type": "code",
   "execution_count": 17,
   "metadata": {},
   "outputs": [
    {
     "name": "stdout",
     "output_type": "stream",
     "text": [
      "總計分數是： 328\n",
      "平均分數是： 82.0\n"
     ]
    }
   ],
   "source": [
    "scores=[90,80,82,76]\n",
    "count=0\n",
    "sum=0\n",
    "for index in range(0, len(scores)): #range函式(起始點,不包含終止點)\n",
    "  count += 1\n",
    "  sum += scores[index]\n",
    "average = sum / count #//是求餘數,/才是除法\n",
    "print(\"總計分數是：\",sum)\n",
    "print(\"平均分數是：\", average)"
   ]
  },
  {
   "cell_type": "code",
   "execution_count": 19,
   "metadata": {},
   "outputs": [
    {
     "name": "stdout",
     "output_type": "stream",
     "text": [
      "這是檔尾\n",
      "\n"
     ]
    }
   ],
   "source": [
    "import os\n",
    "def read_filename(file):\n",
    "  line= None\n",
    "  if os.path.isfile(file):\n",
    "    readfile = open(file, 'r')\n",
    "    while line != '':  #此處應該縮排\n",
    "      line=readfile.readline() #此處應該縮排\n",
    "      print(line)       #此處應該縮排  \n",
    "read_filename(\"usefile.txt\")"
   ]
  },
  {
   "cell_type": "code",
   "execution_count": 20,
   "metadata": {},
   "outputs": [
    {
     "name": "stdout",
     "output_type": "stream",
     "text": [
      "0\n",
      "3\n",
      "6\n",
      "9\n"
     ]
    }
   ],
   "source": [
    "nList = range(10)\n",
    "no = 0\n",
    "while (no<10): #少了:\n",
    "  print(nList[no])\n",
    "  if nList[no] == 5: #nlist(no)改成nList[no], =改成==, 少了:\n",
    "    break\n",
    "  else:\n",
    "    no += 3"
   ]
  },
  {
   "cell_type": "code",
   "execution_count": null,
   "metadata": {},
   "outputs": [
    {
     "name": "stdout",
     "output_type": "stream",
     "text": [
      "請輸入一個被除數：20\n",
      "請輸入一個除數：10\n",
      "2.0\n",
      "請輸入一個被除數：30\n",
      "請輸入一個除數：0\n",
      "除數不能為零，再試一次...\n",
      "請輸入一個被除數：10\n",
      "請輸入一個除數：0\n",
      "除數不能為零，再試一次...\n"
     ]
    }
   ],
   "source": [
    "while True:\n",
    "  try:\n",
    "    x=int(input(\"請輸入一個被除數：\"))\n",
    "    y=int(input(\"請輸入一個除數：\"))\n",
    "    result = x / y\n",
    "  except ZeroDivisionError:\n",
    "    print(\"除數不能為零，再試一次...\")\n",
    "  else:\n",
    "    print(result)"
   ]
  },
  {
   "cell_type": "code",
   "execution_count": 1,
   "metadata": {},
   "outputs": [
    {
     "name": "stdout",
     "output_type": "stream",
     "text": [
      "這是檔尾\n"
     ]
    }
   ],
   "source": [
    "import os\n",
    "def print_file(filename):\n",
    "  line=None\n",
    "  if os.path.isfile(filename): #檔案存在是isfile函式,不存在isexit\n",
    "    data = open(filename, 'r')\n",
    "    for line in data:\n",
    "      print(line)\n",
    "print_file('usefile.txt')"
   ]
  },
  {
   "cell_type": "code",
   "execution_count": 2,
   "metadata": {},
   "outputs": [
    {
     "name": "stdout",
     "output_type": "stream",
     "text": [
      "8\n",
      "1\n"
     ]
    }
   ],
   "source": [
    "import random\n",
    "data=random.randrange(1,11,1) #包含1不包含11,產生1個隨機數字\n",
    "print(data)\n",
    "data=random.randint(1,10) #包含1~10的隨機數字\n",
    "print(data)"
   ]
  },
  {
   "cell_type": "code",
   "execution_count": 3,
   "metadata": {},
   "outputs": [
    {
     "name": "stdout",
     "output_type": "stream",
     "text": [
      "0.3961729990816826\n"
     ]
    }
   ],
   "source": [
    "import random\n",
    "print(random.random())"
   ]
  },
  {
   "cell_type": "code",
   "execution_count": 4,
   "metadata": {},
   "outputs": [
    {
     "name": "stdout",
     "output_type": "stream",
     "text": [
      "35\n",
      "20\n"
     ]
    }
   ],
   "source": [
    "from random import randint\n",
    "print(randint(0,10)*5)\n",
    "from random import randrange\n",
    "print(randrange(0,51,5))"
   ]
  },
  {
   "cell_type": "code",
   "execution_count": 5,
   "metadata": {},
   "outputs": [
    {
     "name": "stdout",
     "output_type": "stream",
     "text": [
      "5.33\n",
      "5\n"
     ]
    }
   ],
   "source": [
    "import math\n",
    "x=-5.33\n",
    "x=math.fabs(x) #取絕對值\n",
    "print(x)\n",
    "x=math.floor(x) #低於x且最接近的整數\n",
    "print(x)"
   ]
  },
  {
   "cell_type": "code",
   "execution_count": null,
   "metadata": {},
   "outputs": [],
   "source": []
  }
 ],
 "metadata": {
  "kernelspec": {
   "display_name": "Python 3",
   "language": "python",
   "name": "python3"
  },
  "language_info": {
   "codemirror_mode": {
    "name": "ipython",
    "version": 3
   },
   "file_extension": ".py",
   "mimetype": "text/x-python",
   "name": "python",
   "nbconvert_exporter": "python",
   "pygments_lexer": "ipython3",
   "version": "3.7.3"
  }
 },
 "nbformat": 4,
 "nbformat_minor": 2
}
